{
 "cells": [
  {
   "cell_type": "markdown",
   "metadata": {},
   "source": [
    "The generalized Jaccard similarity coefficient is defined (https://en.wikipedia.org/wiki/Jaccard_index) as:\n",
    "\n",
    "\\begin{equation}\n",
    "   J(x,y)=\\frac{\\sum_{i}\\min(x_i,y_i)}{\\sum_{i}\\max(x_i,y_i)}\n",
    "\\end{equation}"
   ]
  },
  {
   "cell_type": "code",
   "execution_count": 1,
   "metadata": {
    "collapsed": true
   },
   "outputs": [],
   "source": [
    "def generalized_jaccard_similarity(A,B):\n",
    "    if len(A) != len(B): raise IOError('Input arrays should have the same length')\n",
    "    \n",
    "    A = A/sum(A)\n",
    "    B = B/sum(B)\n",
    "    \n",
    "    sum_min = sum([min(a,b) for a, b in zip(A,B)])\n",
    "    sum_max = sum([max(a,b) for a, b in zip(A,B)])\n",
    "    \n",
    "    return 1.*sum_min/sum_max"
   ]
  },
  {
   "cell_type": "code",
   "execution_count": null,
   "metadata": {
    "collapsed": true
   },
   "outputs": [],
   "source": []
  }
 ],
 "metadata": {
  "kernelspec": {
   "display_name": "Python 2",
   "language": "python",
   "name": "python2"
  },
  "language_info": {
   "codemirror_mode": {
    "name": "ipython",
    "version": 2
   },
   "file_extension": ".py",
   "mimetype": "text/x-python",
   "name": "python",
   "nbconvert_exporter": "python",
   "pygments_lexer": "ipython2",
   "version": "2.7.10"
  }
 },
 "nbformat": 4,
 "nbformat_minor": 0
}
